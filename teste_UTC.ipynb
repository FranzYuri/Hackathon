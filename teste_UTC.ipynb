{
 "metadata": {
  "language_info": {
   "codemirror_mode": {
    "name": "ipython",
    "version": 3
   },
   "file_extension": ".py",
   "mimetype": "text/x-python",
   "name": "python",
   "nbconvert_exporter": "python",
   "pygments_lexer": "ipython3",
   "version": "3.8.3-final"
  },
  "orig_nbformat": 2,
  "kernelspec": {
   "name": "python38364bit3d20016205d843e19268748c9aa2298e",
   "display_name": "Python 3.8.3 64-bit"
  }
 },
 "nbformat": 4,
 "nbformat_minor": 2,
 "cells": [
  {
   "cell_type": "code",
   "execution_count": 1,
   "metadata": {
    "tags": []
   },
   "outputs": [
    {
     "output_type": "stream",
     "name": "stdout",
     "text": "Collecting timezonefinder\n  Downloading timezonefinder-4.4.1-py36.py37.py38-none-any.whl (39.2 MB)\nRequirement already satisfied: numpy>=1.16 in c:\\users\\laura\\appdata\\local\\programs\\python\\python38\\lib\\site-packages (from timezonefinder) (1.19.1)\nInstalling collected packages: timezonefinder\nSuccessfully installed timezonefinder-4.4.1\nNote: you may need to restart the kernel to use updated packages.\n"
    }
   ],
   "source": [
    "pip install timezonefinder"
   ]
  },
  {
   "cell_type": "code",
   "execution_count": 5,
   "metadata": {
    "tags": []
   },
   "outputs": [
    {
     "output_type": "stream",
     "name": "stdout",
     "text": "Europe/Berlin\n"
    }
   ],
   "source": [
    "from timezonefinder import TimezoneFinder\n",
    "\n",
    "tf= TimezoneFinder()\n",
    "lat, log= 52.3 , 13.2 \n",
    "tf.timezone_at(lng= log,lat= lat)\n",
    "print (tf.timezone_at(lng= log,lat= lat))"
   ]
  },
  {
   "cell_type": "code",
   "execution_count": null,
   "metadata": {},
   "outputs": [],
   "source": []
  }
 ]
}