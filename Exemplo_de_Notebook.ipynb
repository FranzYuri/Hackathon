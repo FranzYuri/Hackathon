{
 "cells": [
  {
   "cell_type": "code",
   "execution_count": null,
   "metadata": {},
   "outputs": [],
   "source": [
    "from rocketpy import Environment, SolidMotor, Rocket, Flight, Analisys"
   ]
  },
  {
   "cell_type": "code",
   "execution_count": null,
   "metadata": {
    "tags": []
   },
   "outputs": [],
   "source": [
    "%config InlineBackend.figure_formats = ['svg']\n",
    "%matplotlib inline\n",
    "%load_ext autoreload\n",
    "%autoreload 2"
   ]
  },
  {
   "cell_type": "code",
   "execution_count": null,
   "metadata": {
    "tags": []
   },
   "outputs": [],
   "source": [
    "Env = Environment(\n",
    "    railLength=5.2,\n",
    "    latitude=32.990254,\n",
    "    longitude=-106.974998,\n",
    "    elevation=1400\n",
    ") \n",
    "\n",
    "import datetime\n",
    "\n",
    "tomorrow = datetime.date.today() + datetime.timedelta(days=1)\n",
    "\n",
    "Pro75M1670 = SolidMotor(\n",
    "    thrustSource=\"data/motors/Cesaroni_M1670.eng\",\n",
    "    burnOut=3.9,\n",
    "    grainNumber=5,\n",
    "    grainSeparation=5/1000,\n",
    "    grainDensity=1815,\n",
    "    grainOuterRadius=33/1000,\n",
    "    grainInitialInnerRadius=15/1000,\n",
    "    grainInitialHeight=120/1000,\n",
    "    nozzleRadius=33/1000,\n",
    "    throatRadius=11/1000,\n",
    "    interpolationMethod='linear'\n",
    ")\n",
    "\n",
    "Calisto = Rocket(\n",
    "    motor=Pro75M1670,\n",
    "    radius=127/2000,\n",
    "    mass=19.197-2.956,\n",
    "    inertiaI=6.60,\n",
    "    inertiaZ=0.0351,\n",
    "    distanceRocketNozzle=-1.255,\n",
    "    distanceRocketPropellant=-0.85704,\n",
    "    powerOffDrag='data/calisto/powerOffDragCurve.csv',\n",
    "    powerOnDrag='data/calisto/powerOnDragCurve.csv'\n",
    ")\n",
    "\n",
    "Calisto.setRailButtons([0.2, -0.5])\n",
    "\n",
    "NoseCone = Calisto.addNose(length=0.55829, kind=\"vonKarman\", distanceToCM=0.71971)\n",
    "\n",
    "FinSet = Calisto.addFins(4, span=0.100, rootChord=0.120, tipChord=0.040, distanceToCM=-1.04956)\n",
    "\n",
    "Tail = Calisto.addTail(topRadius=0.0635, bottomRadius=0.0435, length=0.060, distanceToCM=-1.194656)\n",
    "\n",
    "def drogueTrigger(p, y):\n",
    "    # p = pressure\n",
    "    # y = [x, y, z, vx, vy, vz, e0, e1, e2, e3, w1, w2, w3]\n",
    "    # activate drogue when vz < 0 m/s.\n",
    "    return True if y[5] < 0 else False\n",
    "\n",
    "def mainTrigger(p, y):\n",
    "    # p = pressure\n",
    "    # y = [x, y, z, vx, vy, vz, e0, e1, e2, e3, w1, w2, w3]\n",
    "    # activate main when vz < 0 m/s and z < 800 m.\n",
    "    return True if y[5] < 0 and y[2] < 800 else False\n",
    "\n",
    "Main = Calisto.addParachute('Main',\n",
    "                            CdS=10.0,\n",
    "                            trigger=mainTrigger, \n",
    "                            samplingRate=105,\n",
    "                            lag=1.5,\n",
    "                            noise=(0, 8.3, 0.5))\n",
    "\n",
    "Drogue = Calisto.addParachute('Drogue',\n",
    "                              CdS=1.0,\n",
    "                              trigger=drogueTrigger, \n",
    "                              samplingRate=105,\n",
    "                              lag=1.5,\n",
    "                              noise=(0, 8.3, 0.5))"
   ]
  },
  {
   "cell_type": "code",
   "execution_count": null,
   "metadata": {
    "tags": []
   },
   "outputs": [],
   "source": [
    "Env.info()\n",
    "Pro75M1670.info()\n",
    "Calisto.info()"
   ]
  },
  {
   "cell_type": "code",
   "execution_count": null,
   "metadata": {},
   "outputs": [],
   "source": [
    "Ana = Analisys(Env, Calisto)\n",
    "Ana.Apogee_By_RocketMass(5,30,50)"
   ]
  },
  {
   "cell_type": "code",
   "execution_count": null,
   "metadata": {
    "tags": []
   },
   "outputs": [],
   "source": [
    "# Aqui colocamos o valor nominal seguido do desvio padrão\n",
    "# \"ATUALIZADA INSPECAO\" significa que o valor foi conferido e está pronto para lançamento\n",
    "\n",
    "analysis_parameters = {\n",
    "    # Propulsion Details\n",
    "    \"impulse\": (1415.15, 35.3),                  # ATUALIZADA INSPECAO      \n",
    "    \"burnOut\": (5.3, 1),                         # ATUALIZADA INSPECAO\n",
    "    \"nozzleRadius\": (0.0215, 0.0004),            # ATUALIZADA INSPECAO\n",
    "    \"throatRadius\": (0.008, 0.00005),            # ATUALIZADA INSPECAO\n",
    "    \"grainSeparation\": (0.006, 0.0005),          # ATUALIZADA INSPECAO\n",
    "    \"grainDensity\": (1700, 101),                 # ATUALIZADA INSPECAO\n",
    "    \"grainOuterRadius\": (0.021, 0.001),          # ATUALIZADA INSPECAO\n",
    "    \"grainInitialInnerRadius\": (0.009, 0.0006),  # ATUALIZADA INSPECAO\n",
    "    \"grainInitialHeight\": (0.12, 0.0005),        # ATUALIZADA INSPECAO\n",
    "    \"m_prop\": (2.307, 0.020),                    # ATUALIZADA INSPECAO          #Atenção, deve ser SEM a massa do propelente\n",
    "    # Aerodynamic Details\n",
    "    \"m_aero\": (1.325, 0.002),                    # ATUALIZADA INSPECAO\n",
    "    \"inertiaI\": (2.326,0.01*2.326),              # ATUALIZADA INSPECAO (Medido em CAD)   # Obtida do CAD com o foguete DESCARREGADO\n",
    "    \"inertiaZ\": (0.010,0.01*0.010),              # ATUALIZADA INSPECAO (Medido em CAD)   # Obtida do CAD com o foguete DESCARREGADO\n",
    "    \"radius\": (80.95/2000,0.001),                # ATUALIZADA INSPECAO\n",
    "    \"distanceRocketNozzle\": (-0.8626,0.003),     # REVER\n",
    "    \"distanceRocketPropellant\": (-0.4139,0.003), # PEDENTE AERO\n",
    "    \"powerOffDrag\": (1,0.03),                    # ATUALIZADA INSPECAO\n",
    "    \"powerOnDrag\": (1,0.03),                     # ATUALIZADA INSPECAO\n",
    "    \"noseLength\": (0.160, 0.0005),               # ATUALIZADA INSPECAO\n",
    "    \"noseDistanceToCM\": (1.083, 0.0005),         # ATUALIZADA INSPECAO\n",
    "    \"finSpan\": (0.073, 0.001),                   # ATUALIZADA INSPECAO\n",
    "    \"finRootChord\": (0.085, 0.001),              # ATUALIZADA INSPECAO\n",
    "    \"finTipChord\": (0.0335, 0.001),              # ATUALIZADA INSPECAO\n",
    "    \"finDistanceToCM\": (-0.762, 0.003),          # ATUALIZADA INSPECAO    \n",
    "    # Launch and Environment Details\n",
    "    \"windX\":(1, 0.03),                           # NÃO MUDAR, PORÉM BUSCAR JUSTIFICATIVAS\n",
    "    \"windY\":(1, 0.03),                           # NÃO MUDAR, PORÉM BUSCAR JUSTIFICATIVAS\n",
    "    \"inclination\": (85, 1),                      # AINDA É POSSÍVEL AUMENTAR A PRECISÃO\n",
    "    \"heading\": (199.98361111, 5),                 # Azimute calculado através de Topografia \n",
    "    \"railLength\": (2.2 - 0.056 - 0.923, 0.0005), # ATUALIZADA INSPECAO\n",
    "    \"time\":[0,6,12,18],                          # NÃO MUDAR, PORÉM BUSCAR JUSTIFICATIVAS\n",
    "    \"day\":[13,14,15,16,17,18,19,20],             # NÃO MUDAR, PORÉM BUSCAR JUSTIFICATIVAS\n",
    "    \"year\":[2018,2019,2020],                     # NÃO MUDAR, PORÉM BUSCAR JUSTIFICATIVAS\n",
    "    # Parachute Details\n",
    "    \"m_rec\": (1.90625, 0.002),                   # Passará a ser a massa do módulo Ogiva + módulo Rec\n",
    "    \"CdSDrogue\": (0.23, 0.069),                  # PENDENTE REC\n",
    "    \"CdSMain\": (1.08, 0.29),                     # PENDENTE REC\n",
    "    \"lag_rec\": (1.5, 0.2),                       # PEDENTE REC\n",
    "    # Electronic Systems Details\n",
    "    \"m_se\": (1.1185, 0.002),                     # Passará a ser a massa do módulo SE medida na integração\n",
    "    \"lag_se\": (0, 0)}                            # PEDENTE SE\n",
    "\n",
    "print(\"Dados Salvos, prossiga!\")"
   ]
  },
  {
   "cell_type": "code",
   "execution_count": null,
   "metadata": {
    "tags": []
   },
   "outputs": [],
   "source": [
    "Ana.dispertion(300, analysis_parameters, \"Calisto\", \"Calisto_dispertion\", thrustSource=\"data/motors/Cesaroni_M1670.eng\", main=True)"
   ]
  },
  {
   "cell_type": "code",
   "execution_count": null,
   "metadata": {},
   "outputs": [],
   "source": [
    "Ana.exportElipsesToKML(\"Panda_Balistico\")"
   ]
  }
 ],
 "metadata": {
  "hide_input": false,
  "kernelspec": {
   "display_name": "Python 3",
   "language": "python",
   "name": "python3"
  },
  "language_info": {
   "codemirror_mode": {
    "name": "ipython",
    "version": 3
   },
   "file_extension": ".py",
   "mimetype": "text/x-python",
   "name": "python",
   "nbconvert_exporter": "python",
   "pygments_lexer": "ipython3",
   "version": "3.7.4-final"
  }
 },
 "nbformat": 4,
 "nbformat_minor": 2
}